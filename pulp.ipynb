{
 "cells": [
  {
   "cell_type": "code",
   "execution_count": 6,
   "id": "cbc13c31-1487-43c0-8cd2-d138eb8479e1",
   "metadata": {},
   "outputs": [
    {
     "name": "stdout",
     "output_type": "stream",
     "text": [
      "Status: Optimal\n",
      "Optimal number of Heavy-duty batteries at Plant 1: 162.5\n",
      "Optimal number of Standard batteries at Plant 1: 387.5\n",
      "Optimal number of Economy batteries at Plant 1: 0.0\n",
      "Optimal number of Heavy-duty batteries at Plant 2: 0.0\n",
      "Optimal number of Standard batteries at Plant 2: 0.0\n",
      "Optimal number of Economy batteries at Plant 2: 500.0\n",
      "Optimal number of Heavy-duty batteries at Plant 3: 101.25\n",
      "Optimal number of Standard batteries at Plant 3: 113.75\n",
      "Optimal number of Economy batteries at Plant 3: 10.0\n",
      "Optimal Profit: 11747.5 INR\n"
     ]
    }
   ],
   "source": [
    "from pulp import LpMaximize, LpProblem, LpVariable, lpSum, value, LpStatus\n",
    "\n",
    "# Define the problem\n",
    "prob = LpProblem(\"Battery_Production_Optimization\", LpMaximize)\n",
    "\n",
    "# Variables for each plant\n",
    "x_H1 = LpVariable(\"x_H1\", lowBound=0, cat='Continuous')  # Heavy-duty at Plant 1\n",
    "x_S1 = LpVariable(\"x_S1\", lowBound=0, cat='Continuous')  # Standard at Plant 1\n",
    "x_E1 = LpVariable(\"x_E1\", lowBound=0, cat='Continuous')  # Economy at Plant 1\n",
    "\n",
    "x_H2 = LpVariable(\"x_H2\", lowBound=0, cat='Continuous')  # Heavy-duty at Plant 2\n",
    "x_S2 = LpVariable(\"x_S2\", lowBound=0, cat='Continuous')  # Standard at Plant 2\n",
    "x_E2 = LpVariable(\"x_E2\", lowBound=0, cat='Continuous')  # Economy at Plant 2\n",
    "\n",
    "x_H3 = LpVariable(\"x_H3\", lowBound=0, cat='Continuous')  # Heavy-duty at Plant 3\n",
    "x_S3 = LpVariable(\"x_S3\", lowBound=0, cat='Continuous')  # Standard at Plant 3\n",
    "x_E3 = LpVariable(\"x_E3\", lowBound=0, cat='Continuous')  # Economy at Plant 3\n",
    "\n",
    "# Objective Function: Maximize Profit\n",
    "profit = (12 * x_H1 + 10 * x_S1 + 7 * x_E1 +\n",
    "          12 * x_H2 + 10 * x_S2 + 7 * x_E2 +\n",
    "          12 * x_H3 + 10 * x_S3 + 7 * x_E3)\n",
    "prob += profit\n",
    "\n",
    "# Constraints\n",
    "# Production capacities\n",
    "prob += x_H1 + x_S1 + x_E1 <= 550\n",
    "prob += x_H2 + x_S2 + x_E2 <= 750\n",
    "prob += x_H3 + x_S3 + x_E3 <= 225\n",
    "\n",
    "# Lead constraints\n",
    "prob += 21 * x_H1 + 17 * x_S1 + 14 * x_E1 <= 10000\n",
    "prob += 21 * x_H2 + 17 * x_S2 + 14 * x_E2 <= 7000\n",
    "prob += 21 * x_H3 + 17 * x_S3 + 14 * x_E3 <= 4200\n",
    "\n",
    "# Economy battery requirement\n",
    "total_batteries = x_H1 + x_S1 + x_E1 + x_H2 + x_S2 + x_E2 + x_H3 + x_S3 + x_E3\n",
    "prob += x_E1 + x_E2 + x_E3 >= 0.4 * total_batteries\n",
    "\n",
    "# Solve the problem\n",
    "prob.solve()\n",
    "\n",
    "# Print the results\n",
    "print(f\"Status: {LpStatus[prob.status]}\")\n",
    "print(f\"Optimal number of Heavy-duty batteries at Plant 1: {x_H1.varValue}\")\n",
    "print(f\"Optimal number of Standard batteries at Plant 1: {x_S1.varValue}\")\n",
    "print(f\"Optimal number of Economy batteries at Plant 1: {x_E1.varValue}\")\n",
    "print(f\"Optimal number of Heavy-duty batteries at Plant 2: {x_H2.varValue}\")\n",
    "print(f\"Optimal number of Standard batteries at Plant 2: {x_S2.varValue}\")\n",
    "print(f\"Optimal number of Economy batteries at Plant 2: {x_E2.varValue}\")\n",
    "print(f\"Optimal number of Heavy-duty batteries at Plant 3: {x_H3.varValue}\")\n",
    "print(f\"Optimal number of Standard batteries at Plant 3: {x_S3.varValue}\")\n",
    "print(f\"Optimal number of Economy batteries at Plant 3: {x_E3.varValue}\")\n",
    "print(f\"Optimal Profit: {value(prob.objective)} INR\")\n"
   ]
  },
  {
   "cell_type": "code",
   "execution_count": null,
   "id": "5b00bc98-a3ac-4d66-ae78-7c4d2dddeb40",
   "metadata": {},
   "outputs": [],
   "source": []
  }
 ],
 "metadata": {
  "kernelspec": {
   "display_name": "Python 3 (ipykernel)",
   "language": "python",
   "name": "python3"
  },
  "language_info": {
   "codemirror_mode": {
    "name": "ipython",
    "version": 3
   },
   "file_extension": ".py",
   "mimetype": "text/x-python",
   "name": "python",
   "nbconvert_exporter": "python",
   "pygments_lexer": "ipython3",
   "version": "3.11.7"
  },
  "widgets": {
   "application/vnd.jupyter.widget-state+json": {
    "state": {},
    "version_major": 2,
    "version_minor": 0
   }
  }
 },
 "nbformat": 4,
 "nbformat_minor": 5
}
