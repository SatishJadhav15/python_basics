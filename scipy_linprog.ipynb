{
 "cells": [
  {
   "cell_type": "code",
   "execution_count": null,
   "id": "5ff30e79-4341-4f9b-b678-e7c5f8ac124b",
   "metadata": {},
   "outputs": [],
   "source": []
  },
  {
   "cell_type": "code",
   "execution_count": 3,
   "id": "749d9200-c916-464a-a54c-eb9ea7b18335",
   "metadata": {},
   "outputs": [
    {
     "name": "stdout",
     "output_type": "stream",
     "text": [
      "Defaulting to user installation because normal site-packages is not writeable\n",
      "Requirement already satisfied: scipy in c:\\python\\lib\\site-packages (1.11.4)\n",
      "Requirement already satisfied: numpy<1.28.0,>=1.21.6 in c:\\python\\lib\\site-packages (from scipy) (1.26.4)\n",
      "Note: you may need to restart the kernel to use updated packages.\n"
     ]
    }
   ],
   "source": [
    "pip install scipy"
   ]
  },
  {
   "cell_type": "code",
   "execution_count": 17,
   "id": "1e63b3cc-fbd3-4873-929f-7fa46b011018",
   "metadata": {},
   "outputs": [
    {
     "data": {
      "text/plain": [
       "\" c:  Coefficients of the linear objective function to be minimized.\\n    A_ub:   2-D array representing the coefficients of the inequality constraints.\\n    b_ub:    1-D array representing the right-hand side of the inequality constraints.\\n   bounds : Sequence of (min, max) pairs for each element in x, defining the bounds on that variable.\\n   method:  The algorithm used to solve the linear program. In this case, 'highs' specifies the HiGHS solver. \""
      ]
     },
     "execution_count": 17,
     "metadata": {},
     "output_type": "execute_result"
    }
   ],
   "source": [
    " from scipy.optimize import linprog\n",
    "# it solves only minimization problems \n",
    "# and only <= type problems \n",
    "# if they are not in that range then convert them as per rules and then solve\n",
    "''' c:  Coefficients of the linear objective function to be minimized.\n",
    "     A_ub:   2-D array representing the coefficients of the inequality constraints.\n",
    "     b_ub:    1-D array representing the right-hand side of the inequality constraints.\n",
    "    bounds : Sequence of (min, max) pairs for each element in x, defining the bounds on that variable.\n",
    "    method:  The algorithm used to solve the linear program. In this case, 'highs' specifies the HiGHS solver. '''"
   ]
  },
  {
   "cell_type": "code",
   "execution_count": 18,
   "id": "1f026108-23a0-40bf-952e-aabef33a450a",
   "metadata": {},
   "outputs": [],
   "source": [
    "obj=[3, 9]    \n",
    "elhs=[[1, 3], [-1, -1], [1, -1]]\n",
    "erhs=[60, -10, 0]"
   ]
  },
  {
   "cell_type": "code",
   "execution_count": 19,
   "id": "f6d826f8-a0bd-44bd-8cdb-6d27a14fa086",
   "metadata": {},
   "outputs": [],
   "source": [
    "# boundary of decision variables\n",
    "\n",
    "bnd=[(0, float('inf')),( 0, float('inf'))]"
   ]
  },
  {
   "cell_type": "code",
   "execution_count": 20,
   "id": "550fb27e-2468-4b20-b03b-62f44cb480d8",
   "metadata": {},
   "outputs": [
    {
     "data": {
      "text/plain": [
       "        message: Optimization terminated successfully. (HiGHS Status 7: Optimal)\n",
       "        success: True\n",
       "         status: 0\n",
       "            fun: 60.0\n",
       "              x: [ 5.000e+00  5.000e+00]\n",
       "            nit: 2\n",
       "          lower:  residual: [ 5.000e+00  5.000e+00]\n",
       "                 marginals: [ 0.000e+00  0.000e+00]\n",
       "          upper:  residual: [       inf        inf]\n",
       "                 marginals: [ 0.000e+00  0.000e+00]\n",
       "          eqlin:  residual: []\n",
       "                 marginals: []\n",
       "        ineqlin:  residual: [ 4.000e+01  0.000e+00  0.000e+00]\n",
       "                 marginals: [-0.000e+00 -6.000e+00 -3.000e+00]\n",
       " mip_node_count: 0\n",
       " mip_dual_bound: 0.0\n",
       "        mip_gap: 0.0"
      ]
     },
     "execution_count": 20,
     "metadata": {},
     "output_type": "execute_result"
    }
   ],
   "source": [
    "optimization= linprog(c = obj, A_ub = elhs, b_ub = erhs,bounds= bnd, method = 'highs')\n",
    "optimization"
   ]
  },
  {
   "cell_type": "code",
   "execution_count": null,
   "id": "5d95ad32-28fc-4ef4-b44d-f91988775204",
   "metadata": {},
   "outputs": [],
   "source": []
  },
  {
   "cell_type": "code",
   "execution_count": null,
   "id": "af67920c-73e5-4583-9c29-7c16dfa1ced5",
   "metadata": {},
   "outputs": [],
   "source": []
  },
  {
   "cell_type": "code",
   "execution_count": null,
   "id": "bf23c7d7-a0bb-4238-9805-47814e2299ea",
   "metadata": {},
   "outputs": [],
   "source": []
  },
  {
   "cell_type": "code",
   "execution_count": null,
   "id": "feda9a6c-1e69-4ed8-8828-2c254666a0a3",
   "metadata": {},
   "outputs": [],
   "source": []
  },
  {
   "cell_type": "code",
   "execution_count": null,
   "id": "0ecec9fe-8601-45e1-8f94-77ae1cd232ca",
   "metadata": {},
   "outputs": [],
   "source": []
  },
  {
   "cell_type": "code",
   "execution_count": null,
   "id": "6e071a54-e9b6-4af8-98a8-2a2b5385760d",
   "metadata": {},
   "outputs": [],
   "source": []
  },
  {
   "cell_type": "code",
   "execution_count": null,
   "id": "ca4f4fbe-a8db-4cd5-a1d1-bfb8eb6bc7b7",
   "metadata": {},
   "outputs": [],
   "source": []
  }
 ],
 "metadata": {
  "kernelspec": {
   "display_name": "Python 3 (ipykernel)",
   "language": "python",
   "name": "python3"
  },
  "language_info": {
   "codemirror_mode": {
    "name": "ipython",
    "version": 3
   },
   "file_extension": ".py",
   "mimetype": "text/x-python",
   "name": "python",
   "nbconvert_exporter": "python",
   "pygments_lexer": "ipython3",
   "version": "3.11.7"
  },
  "widgets": {
   "application/vnd.jupyter.widget-state+json": {
    "state": {},
    "version_major": 2,
    "version_minor": 0
   }
  }
 },
 "nbformat": 4,
 "nbformat_minor": 5
}
