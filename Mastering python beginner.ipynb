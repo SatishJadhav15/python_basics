{
 "cells": [
  {
   "cell_type": "markdown",
   "id": "7001786b-3cff-48a5-b9f2-c1f616bc1b6b",
   "metadata": {},
   "source": [
    " # This is pythin tutorial\n",
    " "
   ]
  },
  {
   "cell_type": "markdown",
   "id": "2287e9ca-ccf3-4bbd-888f-915359bd1c8b",
   "metadata": {},
   "source": [
    "This is our first python : starting here\n"
   ]
  },
  {
   "cell_type": "code",
   "execution_count": 1,
   "id": "70c990f1-86a5-4a85-a5d1-61e88a592a47",
   "metadata": {},
   "outputs": [
    {
     "name": "stdout",
     "output_type": "stream",
     "text": [
      "Hello World\n"
     ]
    }
   ],
   "source": [
    "print(\"Hello World\")"
   ]
  },
  {
   "cell_type": "markdown",
   "id": "0ac49aee-791a-45d3-a985-4d625a180d0f",
   "metadata": {},
   "source": [
    "Variables"
   ]
  },
  {
   "cell_type": "code",
   "execution_count": 1,
   "id": "337d6a4b-454e-4228-88e6-38a5baafd2f7",
   "metadata": {},
   "outputs": [],
   "source": [
    "x = 2"
   ]
  },
  {
   "cell_type": "code",
   "execution_count": 2,
   "id": "80150fd4-75c1-4507-945c-961708ffc0ef",
   "metadata": {},
   "outputs": [
    {
     "name": "stdout",
     "output_type": "stream",
     "text": [
      "Variable   Type    Data/Info\n",
      "----------------------------\n",
      "x          int     2\n"
     ]
    }
   ],
   "source": [
    "%whos"
   ]
  },
  {
   "cell_type": "code",
   "execution_count": 3,
   "id": "64c95a79-8843-4a05-9a53-af8c1ff567ca",
   "metadata": {},
   "outputs": [
    {
     "name": "stdout",
     "output_type": "stream",
     "text": [
      "<class 'int'>\n"
     ]
    }
   ],
   "source": [
    "print(type(x))\n"
   ]
  },
  {
   "cell_type": "code",
   "execution_count": 4,
   "id": "1f1a4a80-646e-42c4-8375-91e43e103dba",
   "metadata": {},
   "outputs": [],
   "source": [
    "x=2.2"
   ]
  },
  {
   "cell_type": "code",
   "execution_count": 5,
   "id": "05436335-9a42-46b7-bd04-d2c04a280e8a",
   "metadata": {},
   "outputs": [
    {
     "name": "stdout",
     "output_type": "stream",
     "text": [
      "Variable   Type     Data/Info\n",
      "-----------------------------\n",
      "x          float    2.2\n"
     ]
    }
   ],
   "source": [
    "%whos"
   ]
  },
  {
   "cell_type": "code",
   "execution_count": 6,
   "id": "83b6a137-84fa-4481-bd97-8242a5d1ea95",
   "metadata": {},
   "outputs": [
    {
     "name": "stdout",
     "output_type": "stream",
     "text": [
      "<class 'float'>\n"
     ]
    }
   ],
   "source": [
    "print(type(x))\n"
   ]
  },
  {
   "cell_type": "code",
   "execution_count": 7,
   "id": "32dee49a-fef3-4d14-8ab3-dd66536b4378",
   "metadata": {},
   "outputs": [],
   "source": [
    "abcd=5.5"
   ]
  },
  {
   "cell_type": "code",
   "execution_count": 8,
   "id": "4a58343d-cd27-46ed-86df-f4fc367224ec",
   "metadata": {},
   "outputs": [
    {
     "name": "stdout",
     "output_type": "stream",
     "text": [
      "Variable   Type     Data/Info\n",
      "-----------------------------\n",
      "abcd       float    5.5\n",
      "x          float    2.2\n"
     ]
    }
   ],
   "source": [
    "%whos\n"
   ]
  },
  {
   "cell_type": "code",
   "execution_count": 1,
   "id": "9a6fa053-358e-4abc-8c0c-e83375159ced",
   "metadata": {},
   "outputs": [],
   "source": [
    "a,b,d,f,c=1,2.2,-2.25,89.0,22.5\n"
   ]
  },
  {
   "cell_type": "code",
   "execution_count": 2,
   "id": "024bad6f-aded-4397-8a9a-b23e6fdc62a4",
   "metadata": {},
   "outputs": [
    {
     "name": "stdout",
     "output_type": "stream",
     "text": [
      "Interactive namespace is empty.\n"
     ]
    }
   ],
   "source": [
    "%whos"
   ]
  },
  {
   "cell_type": "code",
   "execution_count": 14,
   "id": "26c73d50-0c1d-4af5-81d8-03fbd67aff78",
   "metadata": {},
   "outputs": [],
   "source": [
    "del(abcd)"
   ]
  },
  {
   "cell_type": "code",
   "execution_count": 17,
   "id": "d7c44345-5ff4-4452-8519-9c797e53ad43",
   "metadata": {},
   "outputs": [
    {
     "ename": "NameError",
     "evalue": "name 'abcd' is not defined",
     "output_type": "error",
     "traceback": [
      "\u001b[1;31m---------------------------------------------------------------------------\u001b[0m",
      "\u001b[1;31mNameError\u001b[0m                                 Traceback (most recent call last)",
      "Cell \u001b[1;32mIn[17], line 1\u001b[0m\n\u001b[1;32m----> 1\u001b[0m \u001b[38;5;28mprint\u001b[39m(abcd)\n",
      "\u001b[1;31mNameError\u001b[0m: name 'abcd' is not defined"
     ]
    }
   ],
   "source": [
    "print(abcd)"
   ]
  },
  {
   "cell_type": "code",
   "execution_count": 21,
   "id": "3792f0c4-9de7-4acc-9ae0-16dbd3ac19d5",
   "metadata": {},
   "outputs": [],
   "source": [
    "s=9+3j\n"
   ]
  },
  {
   "cell_type": "code",
   "execution_count": 3,
   "id": "e92aa492-2c80-4e51-97db-442a196e03dd",
   "metadata": {},
   "outputs": [
    {
     "ename": "NameError",
     "evalue": "name 's' is not defined",
     "output_type": "error",
     "traceback": [
      "\u001b[1;31m---------------------------------------------------------------------------\u001b[0m",
      "\u001b[1;31mNameError\u001b[0m                                 Traceback (most recent call last)",
      "Cell \u001b[1;32mIn[3], line 1\u001b[0m\n\u001b[1;32m----> 1\u001b[0m \u001b[38;5;28mprint\u001b[39m(\u001b[38;5;28mtype\u001b[39m(s))\n",
      "\u001b[1;31mNameError\u001b[0m: name 's' is not defined"
     ]
    }
   ],
   "source": [
    "print(type(s))\n"
   ]
  },
  {
   "cell_type": "markdown",
   "id": "0562771f-192e-48ab-bef0-03d3aa51e258",
   "metadata": {},
   "source": [
    "# Operators"
   ]
  },
  {
   "cell_type": "code",
   "execution_count": 4,
   "id": "ba4e0682-f527-4702-b79f-6beeb12f92e0",
   "metadata": {},
   "outputs": [],
   "source": [
    "SumofaAndb=a+b"
   ]
  },
  {
   "cell_type": "code",
   "execution_count": 5,
   "id": "e53e33db-db54-4cf4-ba30-a50557d246d3",
   "metadata": {},
   "outputs": [
    {
     "name": "stdout",
     "output_type": "stream",
     "text": [
      "3.2\n"
     ]
    }
   ],
   "source": [
    "print(SumofaAndb)"
   ]
  },
  {
   "cell_type": "code",
   "execution_count": 6,
   "id": "55713fa0-ccfd-4123-a344-319b3064283c",
   "metadata": {},
   "outputs": [
    {
     "name": "stdout",
     "output_type": "stream",
     "text": [
      "<class 'float'>\n"
     ]
    }
   ],
   "source": [
    "print(type(a+b))"
   ]
  },
  {
   "cell_type": "code",
   "execution_count": 7,
   "id": "7301c4f5-a0e9-4f98-ab58-9d2f4eabdcde",
   "metadata": {},
   "outputs": [],
   "source": [
    "v = ((a+b)**2)/2"
   ]
  },
  {
   "cell_type": "code",
   "execution_count": 8,
   "id": "37dbd797-2b15-4840-9b3c-9e2f491fee5c",
   "metadata": {},
   "outputs": [
    {
     "name": "stdout",
     "output_type": "stream",
     "text": [
      "5.120000000000001\n"
     ]
    }
   ],
   "source": [
    "print(v)"
   ]
  },
  {
   "cell_type": "code",
   "execution_count": 4,
   "id": "4a76356e-8e8b-4d10-9d9a-70e2ccda8ccb",
   "metadata": {},
   "outputs": [
    {
     "name": "stdout",
     "output_type": "stream",
     "text": [
      "helloworld how are you\n"
     ]
    }
   ],
   "source": [
    "s1=\"hello\"     # strings are concatinate in nature\n",
    "s2=\"world how are you\"\n",
    "s=s1+s2\n",
    "print(s)"
   ]
  },
  {
   "cell_type": "code",
   "execution_count": 10,
   "id": "0ed95801-a32c-47ba-a835-f50d4c7e8600",
   "metadata": {},
   "outputs": [
    {
     "data": {
      "text/plain": [
       "3.3333333333333335"
      ]
     },
     "execution_count": 10,
     "metadata": {},
     "output_type": "execute_result"
    }
   ],
   "source": [
    "10/3\n"
   ]
  },
  {
   "cell_type": "code",
   "execution_count": 11,
   "id": "abad87d3-85eb-4d20-b2f6-f5fe9c05b53d",
   "metadata": {},
   "outputs": [
    {
     "data": {
      "text/plain": [
       "3.3333333333333335"
      ]
     },
     "execution_count": 11,
     "metadata": {},
     "output_type": "execute_result"
    }
   ],
   "source": [
    "_"
   ]
  },
  {
   "cell_type": "code",
   "execution_count": 6,
   "id": "472c8d69-daf0-46a9-aea0-4ac49ef864ce",
   "metadata": {},
   "outputs": [
    {
     "name": "stdout",
     "output_type": "stream",
     "text": [
      "566\n"
     ]
    }
   ],
   "source": [
    "_ =566\n",
    "print(_)"
   ]
  },
  {
   "cell_type": "code",
   "execution_count": 14,
   "id": "36581c49-4217-4e7f-93d6-5e87395ff741",
   "metadata": {},
   "outputs": [],
   "source": [
    "#Undescore is if we didn't decide a variable to particular value then underscore becomes automatically"
   ]
  },
  {
   "cell_type": "code",
   "execution_count": 15,
   "id": "e696db69-25b9-49e8-b66d-0db38851532b",
   "metadata": {},
   "outputs": [],
   "source": [
    "#a variable can't start with a digit"
   ]
  },
  {
   "cell_type": "code",
   "execution_count": 16,
   "id": "11187421-ce5c-4d61-b083-416e9740b41f",
   "metadata": {},
   "outputs": [
    {
     "ename": "SyntaxError",
     "evalue": "invalid decimal literal (3909846422.py, line 1)",
     "output_type": "error",
     "traceback": [
      "\u001b[1;36m  Cell \u001b[1;32mIn[16], line 1\u001b[1;36m\u001b[0m\n\u001b[1;33m    3x=9\u001b[0m\n\u001b[1;37m    ^\u001b[0m\n\u001b[1;31mSyntaxError\u001b[0m\u001b[1;31m:\u001b[0m invalid decimal literal\n"
     ]
    }
   ],
   "source": [
    "3x=9"
   ]
  },
  {
   "cell_type": "markdown",
   "id": "8dfc0c2d-9c3f-4934-a3f4-1482db56706d",
   "metadata": {},
   "source": [
    "# "
   ]
  },
  {
   "cell_type": "markdown",
   "id": "0a66c818-2221-4b9a-99a4-39a0804db29c",
   "metadata": {},
   "source": [
    "# Bool"
   ]
  },
  {
   "cell_type": "code",
   "execution_count": 17,
   "id": "560cdf18-2f9f-4df5-96b5-6c7f8b9d6237",
   "metadata": {},
   "outputs": [],
   "source": [
    "a = True\n",
    "b = True\n",
    "c = False\n"
   ]
  },
  {
   "cell_type": "code",
   "execution_count": 18,
   "id": "6b27af33-d240-40d5-8994-8e8adce72b78",
   "metadata": {},
   "outputs": [
    {
     "name": "stdout",
     "output_type": "stream",
     "text": [
      "Variable     Type     Data/Info\n",
      "-------------------------------\n",
      "SumofaAndb   float    3.2\n",
      "a            bool     True\n",
      "b            bool     True\n",
      "c            bool     False\n",
      "d            float    -2.25\n",
      "f            float    89.0\n",
      "s            str      helloworld\n",
      "s1           str      hello\n",
      "s2           str      world\n",
      "v            float    5.120000000000001\n"
     ]
    }
   ],
   "source": [
    "%whos"
   ]
  },
  {
   "cell_type": "code",
   "execution_count": 19,
   "id": "feb61f04-5291-49f6-acf9-93ee7b202392",
   "metadata": {},
   "outputs": [
    {
     "name": "stdout",
     "output_type": "stream",
     "text": [
      "True\n",
      "False\n",
      "False\n"
     ]
    }
   ],
   "source": [
    "print(a and b)\n",
    "print(b and c)\n",
    "print(a and c)\n"
   ]
  },
  {
   "cell_type": "code",
   "execution_count": 20,
   "id": "bfde290c-9734-4985-951b-f1457b793000",
   "metadata": {},
   "outputs": [
    {
     "name": "stdout",
     "output_type": "stream",
     "text": [
      "True\n"
     ]
    }
   ],
   "source": [
    "u = a or b\n",
    "print(u)"
   ]
  },
  {
   "cell_type": "code",
   "execution_count": 21,
   "id": "a23f0bc9-0156-4df7-9b23-e59baeb3038a",
   "metadata": {},
   "outputs": [
    {
     "data": {
      "text/plain": [
       "False"
      ]
     },
     "execution_count": 21,
     "metadata": {},
     "output_type": "execute_result"
    }
   ],
   "source": [
    "not(a)"
   ]
  },
  {
   "cell_type": "code",
   "execution_count": 22,
   "id": "b70ecb63-b70b-4097-9697-a50c9cae98de",
   "metadata": {},
   "outputs": [
    {
     "data": {
      "text/plain": [
       "True"
      ]
     },
     "execution_count": 22,
     "metadata": {},
     "output_type": "execute_result"
    }
   ],
   "source": [
    "not(c)"
   ]
  },
  {
   "cell_type": "code",
   "execution_count": 23,
   "id": "1912df8e-f9cf-455c-8586-f90f93e2e747",
   "metadata": {},
   "outputs": [],
   "source": [
    "t = not(d)"
   ]
  },
  {
   "cell_type": "code",
   "execution_count": 24,
   "id": "6fa050a2-cb3e-497c-91bb-e44b6d14c618",
   "metadata": {},
   "outputs": [
    {
     "data": {
      "text/plain": [
       "bool"
      ]
     },
     "execution_count": 24,
     "metadata": {},
     "output_type": "execute_result"
    }
   ],
   "source": [
    "type(t)"
   ]
  },
  {
   "cell_type": "code",
   "execution_count": 26,
   "id": "d64a2ff4-a81a-4ed1-90dc-f93b69935fde",
   "metadata": {},
   "outputs": [
    {
     "data": {
      "text/plain": [
       "float"
      ]
     },
     "execution_count": 26,
     "metadata": {},
     "output_type": "execute_result"
    }
   ],
   "source": [
    "type(d)"
   ]
  },
  {
   "cell_type": "markdown",
   "id": "c543e3ed-d7d0-4325-acae-46d9f1d45a8b",
   "metadata": {},
   "source": [
    "# Comparisons"
   ]
  },
  {
   "cell_type": "code",
   "execution_count": 7,
   "id": "27c528d4-7516-48ed-8f7e-cfc1f76bec2e",
   "metadata": {},
   "outputs": [
    {
     "name": "stdout",
     "output_type": "stream",
     "text": [
      "True\n"
     ]
    }
   ],
   "source": [
    "c = 2<3\n",
    "print(c)"
   ]
  },
  {
   "cell_type": "code",
   "execution_count": 30,
   "id": "273cf5a5-327b-4e84-9e43-0abb3a9658be",
   "metadata": {},
   "outputs": [
    {
     "name": "stdout",
     "output_type": "stream",
     "text": [
      "True\n"
     ]
    }
   ],
   "source": [
    "print(2<3)"
   ]
  },
  {
   "cell_type": "code",
   "execution_count": 31,
   "id": "038007e3-bb82-4b8e-8ab1-8ef99de19d69",
   "metadata": {},
   "outputs": [
    {
     "name": "stdout",
     "output_type": "stream",
     "text": [
      "<class 'bool'>\n",
      "True\n"
     ]
    }
   ],
   "source": [
    "print(type(c))\n",
    "print(c)"
   ]
  },
  {
   "cell_type": "code",
   "execution_count": 34,
   "id": "b0de7ca5-cf56-47ce-b3cf-dd79eb34559f",
   "metadata": {},
   "outputs": [
    {
     "name": "stdout",
     "output_type": "stream",
     "text": [
      "True\n",
      "<class 'bool'>\n"
     ]
    }
   ],
   "source": [
    "s= 3==3.0\n",
    "print(s)\n",
    "print(type(s))\n"
   ]
  },
  {
   "cell_type": "code",
   "execution_count": 36,
   "id": "7acfcb70-7766-4522-a953-af3ec3f75aea",
   "metadata": {},
   "outputs": [],
   "source": [
    "x = 8\n",
    "y = -6\n",
    "z = 5"
   ]
  },
  {
   "cell_type": "code",
   "execution_count": 37,
   "id": "4b049d2e-bf92-4806-9c5d-fb665942a940",
   "metadata": {},
   "outputs": [
    {
     "data": {
      "text/plain": [
       "True"
      ]
     },
     "execution_count": 37,
     "metadata": {},
     "output_type": "execute_result"
    }
   ],
   "source": [
    "(x>y) and (z>y) or (z==x)"
   ]
  },
  {
   "cell_type": "code",
   "execution_count": 38,
   "id": "1fba2251-477e-42d7-9e52-d7720c3b30e6",
   "metadata": {},
   "outputs": [],
   "source": [
    "# Always remember that {and} will be applied first "
   ]
  },
  {
   "cell_type": "code",
   "execution_count": 42,
   "id": "27b2ccfc-46cf-4ff3-862f-714d86612f45",
   "metadata": {},
   "outputs": [
    {
     "data": {
      "text/plain": [
       "True"
      ]
     },
     "execution_count": 42,
     "metadata": {},
     "output_type": "execute_result"
    }
   ],
   "source": [
    "True or False and False"
   ]
  },
  {
   "cell_type": "code",
   "execution_count": 43,
   "id": "da48df61-f0d1-4e7f-a617-b32fc46ee1b3",
   "metadata": {},
   "outputs": [
    {
     "data": {
      "text/plain": [
       "False"
      ]
     },
     "execution_count": 43,
     "metadata": {},
     "output_type": "execute_result"
    }
   ],
   "source": [
    "(True or False) and False"
   ]
  },
  {
   "cell_type": "code",
   "execution_count": 44,
   "id": "05a2db71-6301-4ad9-908b-fdae06939e0e",
   "metadata": {},
   "outputs": [
    {
     "data": {
      "text/plain": [
       "4"
      ]
     },
     "execution_count": 44,
     "metadata": {},
     "output_type": "execute_result"
    }
   ],
   "source": [
    "round(4.05555)"
   ]
  },
  {
   "cell_type": "code",
   "execution_count": 45,
   "id": "dc0bf446-b7a8-4b5f-8a1c-08ebe5bfad39",
   "metadata": {},
   "outputs": [
    {
     "data": {
      "text/plain": [
       "4"
      ]
     },
     "execution_count": 45,
     "metadata": {},
     "output_type": "execute_result"
    }
   ],
   "source": [
    "round(4.5)"
   ]
  },
  {
   "cell_type": "code",
   "execution_count": 46,
   "id": "aa962892-d0a6-494d-be7f-b5f12cca1380",
   "metadata": {
    "scrolled": true
   },
   "outputs": [
    {
     "data": {
      "text/plain": [
       "4.853"
      ]
     },
     "execution_count": 46,
     "metadata": {},
     "output_type": "execute_result"
    }
   ],
   "source": [
    "round(4.8525155,3)"
   ]
  },
  {
   "cell_type": "code",
   "execution_count": 51,
   "id": "1b9e8ae7-4a46-44f7-a478-7b207f1aeeae",
   "metadata": {},
   "outputs": [
    {
     "data": {
      "text/plain": [
       "(5, 2)"
      ]
     },
     "execution_count": 51,
     "metadata": {},
     "output_type": "execute_result"
    }
   ],
   "source": [
    "divmod(27,5)"
   ]
  },
  {
   "cell_type": "code",
   "execution_count": 8,
   "id": "a74e2d21-cf59-4669-b510-61fc1057794c",
   "metadata": {},
   "outputs": [
    {
     "name": "stdout",
     "output_type": "stream",
     "text": [
      "<class 'tuple'>\n",
      "The value of G : (7, 2)\n"
     ]
    }
   ],
   "source": [
    "G = divmod(37,5)\n",
    "print(type(G))\n",
    "print(\"The value of G :\",G)"
   ]
  },
  {
   "cell_type": "code",
   "execution_count": 54,
   "id": "607ceb01-8fb5-4069-afe1-5ad46a3f20db",
   "metadata": {},
   "outputs": [
    {
     "data": {
      "text/plain": [
       "7"
      ]
     },
     "execution_count": 54,
     "metadata": {},
     "output_type": "execute_result"
    }
   ],
   "source": [
    "G[0]"
   ]
  },
  {
   "cell_type": "code",
   "execution_count": 58,
   "id": "b6d8e3aa-05ee-4ade-a862-fe9c48f41dc1",
   "metadata": {},
   "outputs": [
    {
     "data": {
      "text/plain": [
       "2"
      ]
     },
     "execution_count": 58,
     "metadata": {},
     "output_type": "execute_result"
    }
   ],
   "source": [
    "G[1]"
   ]
  },
  {
   "cell_type": "code",
   "execution_count": 59,
   "id": "8829b0db-df26-47f3-a09f-037ed24c78c1",
   "metadata": {},
   "outputs": [
    {
     "data": {
      "text/plain": [
       "True"
      ]
     },
     "execution_count": 59,
     "metadata": {},
     "output_type": "execute_result"
    }
   ],
   "source": [
    "isinstance(2,int)"
   ]
  },
  {
   "cell_type": "code",
   "execution_count": 60,
   "id": "d72895ce-31cd-4b7a-adbb-e84bb960f105",
   "metadata": {},
   "outputs": [
    {
     "data": {
      "text/plain": [
       "False"
      ]
     },
     "execution_count": 60,
     "metadata": {},
     "output_type": "execute_result"
    }
   ],
   "source": [
    "isinstance(2.5,int)"
   ]
  },
  {
   "cell_type": "code",
   "execution_count": 61,
   "id": "614591e2-1f93-4e11-a729-cb6b1ecad8de",
   "metadata": {},
   "outputs": [
    {
     "data": {
      "text/plain": [
       "True"
      ]
     },
     "execution_count": 61,
     "metadata": {},
     "output_type": "execute_result"
    }
   ],
   "source": [
    "isinstance(2.5,(int,float))"
   ]
  },
  {
   "cell_type": "code",
   "execution_count": 63,
   "id": "01b227a8-58b7-46e4-98c7-fb9a3b09b9cf",
   "metadata": {},
   "outputs": [
    {
     "data": {
      "text/plain": [
       "False"
      ]
     },
     "execution_count": 63,
     "metadata": {},
     "output_type": "execute_result"
    }
   ],
   "source": [
    "isinstance(2+9j , (int,float,str))\n"
   ]
  },
  {
   "cell_type": "code",
   "execution_count": 1,
   "id": "683e43ac-88e3-4798-8d7d-a70a7bfd09fe",
   "metadata": {},
   "outputs": [
    {
     "data": {
      "text/plain": [
       "16"
      ]
     },
     "execution_count": 1,
     "metadata": {},
     "output_type": "execute_result"
    }
   ],
   "source": [
    "2**4"
   ]
  },
  {
   "cell_type": "code",
   "execution_count": 2,
   "id": "e0d095eb-b0fe-48c6-ab64-277b9d507ace",
   "metadata": {},
   "outputs": [
    {
     "data": {
      "text/plain": [
       "16"
      ]
     },
     "execution_count": 2,
     "metadata": {},
     "output_type": "execute_result"
    }
   ],
   "source": [
    "pow(2,4)"
   ]
  },
  {
   "cell_type": "code",
   "execution_count": 3,
   "id": "9f9dd69e-95a0-4c33-90da-e88899789f23",
   "metadata": {},
   "outputs": [
    {
     "data": {
      "text/plain": [
       "4"
      ]
     },
     "execution_count": 3,
     "metadata": {},
     "output_type": "execute_result"
    }
   ],
   "source": [
    "pow(2,4,6)  # 2 raise to 4 is equal to divide by 6 and get the remainder"
   ]
  },
  {
   "cell_type": "code",
   "execution_count": 4,
   "id": "79d79f86-f88d-45c2-8615-a70351c5afa2",
   "metadata": {},
   "outputs": [
    {
     "data": {
      "text/plain": [
       "<function pow(base, exp, mod=None)>"
      ]
     },
     "execution_count": 4,
     "metadata": {},
     "output_type": "execute_result"
    }
   ],
   "source": [
    "pow\n"
   ]
  },
  {
   "cell_type": "code",
   "execution_count": 7,
   "id": "089d2636-de08-4ffd-ae92-41a81123590c",
   "metadata": {},
   "outputs": [
    {
     "name": "stdin",
     "output_type": "stream",
     "text": [
      "Enter a number 22\n"
     ]
    }
   ],
   "source": [
    "x = input(\"Enter a number\")"
   ]
  },
  {
   "cell_type": "code",
   "execution_count": 8,
   "id": "6ecb1964-21ac-4fb6-b82c-343c4090b4a9",
   "metadata": {},
   "outputs": [
    {
     "data": {
      "text/plain": [
       "str"
      ]
     },
     "execution_count": 8,
     "metadata": {},
     "output_type": "execute_result"
    }
   ],
   "source": [
    "type(x)"
   ]
  },
  {
   "cell_type": "code",
   "execution_count": 9,
   "id": "7b415fd4-72d0-4288-b893-2ad357dd389f",
   "metadata": {},
   "outputs": [
    {
     "ename": "TypeError",
     "evalue": "can only concatenate str (not \"int\") to str",
     "output_type": "error",
     "traceback": [
      "\u001b[1;31m---------------------------------------------------------------------------\u001b[0m",
      "\u001b[1;31mTypeError\u001b[0m                                 Traceback (most recent call last)",
      "Cell \u001b[1;32mIn[9], line 1\u001b[0m\n\u001b[1;32m----> 1\u001b[0m \u001b[38;5;28mprint\u001b[39m(x\u001b[38;5;241m+\u001b[39m\u001b[38;5;241m12\u001b[39m)\n",
      "\u001b[1;31mTypeError\u001b[0m: can only concatenate str (not \"int\") to str"
     ]
    }
   ],
   "source": [
    "print(x+12)"
   ]
  },
  {
   "cell_type": "code",
   "execution_count": 10,
   "id": "da3dba73-0f60-42df-819e-cfe5845be940",
   "metadata": {},
   "outputs": [],
   "source": [
    "x = int(x)"
   ]
  },
  {
   "cell_type": "code",
   "execution_count": 11,
   "id": "3469e2e3-3782-4a20-bcab-00800531425f",
   "metadata": {},
   "outputs": [
    {
     "data": {
      "text/plain": [
       "int"
      ]
     },
     "execution_count": 11,
     "metadata": {},
     "output_type": "execute_result"
    }
   ],
   "source": [
    "type(x)"
   ]
  },
  {
   "cell_type": "code",
   "execution_count": 12,
   "id": "a2dbe96c-8554-4f44-a91c-4b50b1e3eb9d",
   "metadata": {},
   "outputs": [
    {
     "name": "stdout",
     "output_type": "stream",
     "text": [
      "-12\n"
     ]
    }
   ],
   "source": [
    "print(x-34)"
   ]
  },
  {
   "cell_type": "code",
   "execution_count": 13,
   "id": "a2689869-c703-4960-9b4e-e18a164c0aba",
   "metadata": {},
   "outputs": [
    {
     "name": "stdin",
     "output_type": "stream",
     "text": [
      "enter =  55\n"
     ]
    }
   ],
   "source": [
    "a = input(\"enter = \")"
   ]
  },
  {
   "cell_type": "code",
   "execution_count": 17,
   "id": "d385519d-3efe-44fa-8ce9-73fc71de274a",
   "metadata": {},
   "outputs": [
    {
     "name": "stdin",
     "output_type": "stream",
     "text": [
      "enter =  1\n"
     ]
    }
   ],
   "source": [
    "a = input(\"enter = \",)"
   ]
  },
  {
   "cell_type": "code",
   "execution_count": 1,
   "id": "a89fe83f-ddd9-4f7e-81f8-c171334731b0",
   "metadata": {},
   "outputs": [],
   "source": [
    "abc = str(\"apk\")"
   ]
  },
  {
   "cell_type": "code",
   "execution_count": 2,
   "id": "99ba84e2-cee0-46bf-b7d6-81270093a229",
   "metadata": {},
   "outputs": [
    {
     "ename": "NameError",
     "evalue": "name 'a' is not defined",
     "output_type": "error",
     "traceback": [
      "\u001b[1;31m---------------------------------------------------------------------------\u001b[0m",
      "\u001b[1;31mNameError\u001b[0m                                 Traceback (most recent call last)",
      "Cell \u001b[1;32mIn[2], line 1\u001b[0m\n\u001b[1;32m----> 1\u001b[0m \u001b[38;5;28mprint\u001b[39m(a\u001b[38;5;241m+\u001b[39mabc)\n",
      "\u001b[1;31mNameError\u001b[0m: name 'a' is not defined"
     ]
    }
   ],
   "source": [
    "print(a+abc)"
   ]
  },
  {
   "cell_type": "code",
   "execution_count": 23,
   "id": "6ce7991a-3ca7-4a57-9168-6892727420fa",
   "metadata": {},
   "outputs": [
    {
     "name": "stdout",
     "output_type": "stream",
     "text": [
      "12 app\n"
     ]
    }
   ],
   "source": [
    "r =str(12)\n",
    "t =\" app\"\n",
    "print(r+t)"
   ]
  },
  {
   "cell_type": "code",
   "execution_count": null,
   "id": "b21c2c9f-2d15-4127-bf14-8fcfb073f4b5",
   "metadata": {},
   "outputs": [],
   "source": []
  },
  {
   "cell_type": "code",
   "execution_count": 20,
   "id": "ef5a1afc-da56-4605-a8da-cb6d5252fc6c",
   "metadata": {},
   "outputs": [
    {
     "name": "stdin",
     "output_type": "stream",
     "text": [
      "Enter a real number:  25\n"
     ]
    }
   ],
   "source": [
    "a = float(input(\"Enter a real number: \"))"
   ]
  },
  {
   "cell_type": "code",
   "execution_count": 87,
   "id": "30794066-7db6-4b6e-93d0-9307c2b19a21",
   "metadata": {},
   "outputs": [
    {
     "name": "stdin",
     "output_type": "stream",
     "text": [
      "Enter a real number:  2.5\n"
     ]
    }
   ],
   "source": [
    "a = float(input(\"Enter a real number: \"))"
   ]
  },
  {
   "cell_type": "code",
   "execution_count": 88,
   "id": "30ec598f-fc5c-46a6-af91-118856f3603a",
   "metadata": {},
   "outputs": [
    {
     "name": "stdin",
     "output_type": "stream",
     "text": [
      "Enter a real number:  2\n"
     ]
    }
   ],
   "source": [
    "a = float(input(\"Enter a real number: \"))"
   ]
  },
  {
   "cell_type": "code",
   "execution_count": 89,
   "id": "70bb8e76-f0ca-493b-877f-652d1bf42120",
   "metadata": {},
   "outputs": [
    {
     "data": {
      "text/plain": [
       "\u001b[1;31mSignature:\u001b[0m \u001b[0mpow\u001b[0m\u001b[1;33m(\u001b[0m\u001b[0mbase\u001b[0m\u001b[1;33m,\u001b[0m \u001b[0mexp\u001b[0m\u001b[1;33m,\u001b[0m \u001b[0mmod\u001b[0m\u001b[1;33m=\u001b[0m\u001b[1;32mNone\u001b[0m\u001b[1;33m)\u001b[0m\u001b[1;33m\u001b[0m\u001b[1;33m\u001b[0m\u001b[0m\n",
       "\u001b[1;31mDocstring:\u001b[0m\n",
       "Equivalent to base**exp with 2 arguments or base**exp % mod with 3 arguments\n",
       "\n",
       "Some types, such as ints, are able to use a more efficient algorithm when\n",
       "invoked using the three argument form.\n",
       "\u001b[1;31mType:\u001b[0m      builtin_function_or_method"
      ]
     },
     "metadata": {},
     "output_type": "display_data"
    }
   ],
   "source": [
    "pow?"
   ]
  },
  {
   "cell_type": "code",
   "execution_count": 90,
   "id": "cc504a5c-d2f6-4123-946c-a89da1f5d84b",
   "metadata": {},
   "outputs": [
    {
     "name": "stdout",
     "output_type": "stream",
     "text": [
      "Help on built-in function isinstance in module builtins:\n",
      "\n",
      "isinstance(obj, class_or_tuple, /)\n",
      "    Return whether an object is an instance of a class or of a subclass thereof.\n",
      "    \n",
      "    A tuple, as in ``isinstance(x, (A, B, ...))``, may be given as the target to\n",
      "    check against. This is equivalent to ``isinstance(x, A) or isinstance(x, B)\n",
      "    or ...`` etc.\n",
      "\n"
     ]
    }
   ],
   "source": [
    "help(isinstance)"
   ]
  },
  {
   "cell_type": "code",
   "execution_count": 91,
   "id": "1173a96f-cb23-4b39-a918-cf57dfca2ff6",
   "metadata": {},
   "outputs": [
    {
     "name": "stdin",
     "output_type": "stream",
     "text": [
      "enter1:  12\n",
      "enter2:  14\n"
     ]
    }
   ],
   "source": [
    "a = int(input(\"enter1: \"))\n",
    "b = int(input(\"enter2: \"))\n",
    "if a>b :\n",
    "    print(\"a is big than b\")\n",
    "    "
   ]
  },
  {
   "cell_type": "code",
   "execution_count": 92,
   "id": "cbe68ca8-c36e-49b3-b913-2c90dfb5ab2d",
   "metadata": {},
   "outputs": [
    {
     "name": "stdin",
     "output_type": "stream",
     "text": [
      "enter1:  12\n",
      "enter2:  1\n"
     ]
    },
    {
     "name": "stdout",
     "output_type": "stream",
     "text": [
      "a is big than b\n"
     ]
    }
   ],
   "source": [
    "a = int(input(\"enter1: \"))\n",
    "b = int(input(\"enter2: \"))\n",
    "if a>b :\n",
    "    print(\"a is big than b\")"
   ]
  },
  {
   "cell_type": "code",
   "execution_count": 93,
   "id": "9b47cdea-c156-47fd-bc92-bbb9fd45e593",
   "metadata": {},
   "outputs": [
    {
     "name": "stdin",
     "output_type": "stream",
     "text": [
      "enter1:  10\n",
      "enter2:  53\n"
     ]
    },
    {
     "name": "stdout",
     "output_type": "stream",
     "text": [
      "53\n"
     ]
    }
   ],
   "source": [
    "a = int(input(\"enter1: \"))\n",
    "b = int(input(\"enter2: \"))\n",
    "if a>b :\n",
    "    print(a)\n",
    "if a<b :\n",
    "    print(b)"
   ]
  },
  {
   "cell_type": "code",
   "execution_count": 95,
   "id": "c2639a00-3fdb-4084-b6e9-d7017d6cbeb3",
   "metadata": {},
   "outputs": [
    {
     "name": "stdin",
     "output_type": "stream",
     "text": [
      "enter1:  10\n",
      "enter2:  25\n"
     ]
    },
    {
     "name": "stdout",
     "output_type": "stream",
     "text": [
      "25\n"
     ]
    }
   ],
   "source": [
    "a = int(input(\"enter1: \"))\n",
    "b = int(input(\"enter2: \"))\n",
    "if a>b:\n",
    "    print(a)\n",
    "else:\n",
    "    print(b)"
   ]
  },
  {
   "cell_type": "code",
   "execution_count": 96,
   "id": "b92f90f3-0362-4f62-86b4-291b8c48c727",
   "metadata": {},
   "outputs": [
    {
     "name": "stdin",
     "output_type": "stream",
     "text": [
      "enter1:  10\n",
      "enter2:  10\n"
     ]
    },
    {
     "name": "stdout",
     "output_type": "stream",
     "text": [
      "10\n"
     ]
    }
   ],
   "source": [
    "a = int(input(\"enter1: \"))\n",
    "b = int(input(\"enter2: \"))\n",
    "if a>b:\n",
    "    print(a)\n",
    "else:\n",
    "    print(b)"
   ]
  },
  {
   "cell_type": "code",
   "execution_count": 98,
   "id": "75bc84d3-1c75-4ed0-a7a4-a3c3df0391de",
   "metadata": {},
   "outputs": [
    {
     "name": "stdin",
     "output_type": "stream",
     "text": [
      "enter1:  10\n",
      "enter2:  10\n"
     ]
    },
    {
     "name": "stdout",
     "output_type": "stream",
     "text": [
      "10\n",
      "else part\n"
     ]
    }
   ],
   "source": [
    "a = int(input(\"enter1: \"))\n",
    "b = int(input(\"enter2: \"))\n",
    "if a>b:\n",
    "    print(a)\n",
    "    print(\"if part\")\n",
    "else:\n",
    "    print(b)\n",
    "    print(\"else part\")"
   ]
  },
  {
   "cell_type": "code",
   "execution_count": 99,
   "id": "953ed830-927f-487d-88a4-51dab3136aa0",
   "metadata": {},
   "outputs": [
    {
     "name": "stdin",
     "output_type": "stream",
     "text": [
      "enter1:  10\n",
      "enter2:  2\n"
     ]
    },
    {
     "name": "stdout",
     "output_type": "stream",
     "text": [
      "10\n",
      "if part\n"
     ]
    }
   ],
   "source": [
    "a = int(input(\"enter1: \"))\n",
    "b = int(input(\"enter2: \"))\n",
    "if a>b:\n",
    "    print(a)\n",
    "    print(\"if part\")\n",
    "else:\n",
    "    print(b)\n",
    "    print(\"else part\")"
   ]
  },
  {
   "cell_type": "code",
   "execution_count": 100,
   "id": "931d9ba8-8ba2-41ee-80ea-389f2427dc63",
   "metadata": {},
   "outputs": [
    {
     "name": "stdout",
     "output_type": "stream",
     "text": [
      "A\n"
     ]
    }
   ],
   "source": [
    "a = 55\n",
    "b = 45\n",
    "if a==b:\n",
    "    print(\"equal\")\n",
    "elif a>b :\n",
    "    print(\"A\")\n",
    "else: \n",
    "    print(\"B\")"
   ]
  },
  {
   "cell_type": "code",
   "execution_count": 11,
   "id": "7e6a79c5-0bb6-45a9-8365-bf2e8ebe19ed",
   "metadata": {},
   "outputs": [
    {
     "name": "stdin",
     "output_type": "stream",
     "text": [
      "Marathi:  12\n"
     ]
    },
    {
     "name": "stdout",
     "output_type": "stream",
     "text": [
      "third class\n"
     ]
    }
   ],
   "source": [
    "a = int(input(\"Marathi: \"))\n",
    "if 100>= a >=75:\n",
    "    print(\"first class\")\n",
    "elif 75> a >=50:\n",
    "    print(\"second class\")\n",
    "else:\n",
    "    print(\"third class\")"
   ]
  },
  {
   "cell_type": "code",
   "execution_count": 20,
   "id": "78823d6c-6a60-414d-84ab-122b8b437e14",
   "metadata": {},
   "outputs": [
    {
     "name": "stdin",
     "output_type": "stream",
     "text": [
      "Enter your marks:  99.2\n"
     ]
    },
    {
     "name": "stdout",
     "output_type": "stream",
     "text": [
      "A grade\n"
     ]
    }
   ],
   "source": [
    "a = float(input(\"Enter your marks: \"))\n",
    "if a >= 85:\n",
    "    print(\"A grade\")\n",
    "elif 85 > a >= 75:\n",
    "    print(\"B grade\")\n",
    "elif 75 > a >=65:\n",
    "    print(\"C grade\")\n",
    "else:\n",
    "    print(\"D grade\")"
   ]
  },
  {
   "cell_type": "code",
   "execution_count": 48,
   "id": "07e8773b-c4f7-4ad0-8008-f9bad69d5608",
   "metadata": {},
   "outputs": [
    {
     "name": "stdin",
     "output_type": "stream",
     "text": [
      "Enter your a:  56\n"
     ]
    },
    {
     "name": "stdout",
     "output_type": "stream",
     "text": [
      "a is greater than 50\n",
      "a is less than 100\n"
     ]
    }
   ],
   "source": [
    "a = float(input(\"Enter your a: \"))\n",
    "if a >= 50:\n",
    "    if a == 50 :\n",
    "        print(\"a is equal to 50\")\n",
    "    else:\n",
    "        print(\"a is greater than 50\")\n",
    "    if a > 100 :\n",
    "        if a == 100 :\n",
    "            print(\"a is equal to 100\")\n",
    "        else:\n",
    "           print(\"a is greater than 100\")\n",
    "    else:\n",
    "        print(\"a is less than 100\")\n",
    "else:\n",
    "    print(\"a is less than 50\")        "
   ]
  },
  {
   "cell_type": "code",
   "execution_count": 51,
   "id": "0cbe12ba-d424-49e1-8e97-f1d77ea46bd9",
   "metadata": {},
   "outputs": [
    {
     "name": "stdin",
     "output_type": "stream",
     "text": [
      "Enter your a:  451.51\n"
     ]
    },
    {
     "name": "stdout",
     "output_type": "stream",
     "text": [
      "a is greater than 50\n",
      "a is greater than 100\n"
     ]
    }
   ],
   "source": [
    "a = float(input(\"Enter your a: \"))\n",
    "if a >= 50:\n",
    "    if a == 50 :\n",
    "        print(\"a is equal to 50\")\n",
    "    else:\n",
    "        print(\"a is greater than 50\")\n",
    "    if a > 100 :\n",
    "        if a == 100 :\n",
    "            print(\"a is equal to 100\")\n",
    "        else:\n",
    "           print(\"a is greater than 100\")\n",
    "    else:\n",
    "        print(\"a is less than 100\")\n",
    "else:\n",
    "    print(\"a is less than 50\")  "
   ]
  },
  {
   "cell_type": "code",
   "execution_count": 87,
   "id": "d5bc6826-25ef-4864-a804-12e0e8e10919",
   "metadata": {},
   "outputs": [
    {
     "data": {
      "text/plain": [
       "0"
      ]
     },
     "execution_count": 87,
     "metadata": {},
     "output_type": "execute_result"
    }
   ],
   "source": [
    "100%2\n",
    "\n"
   ]
  },
  {
   "cell_type": "code",
   "execution_count": 1,
   "id": "aa278ac4-ccd1-40d4-9ac6-afff6271379e",
   "metadata": {},
   "outputs": [
    {
     "name": "stdin",
     "output_type": "stream",
     "text": [
      "Enter a number:  -685.9\n"
     ]
    },
    {
     "name": "stdout",
     "output_type": "stream",
     "text": [
      "-685\n"
     ]
    }
   ],
   "source": [
    "# single line comment\n",
    "\"\"\"\n",
    "user will enter a floating point number let say 238.0555. your task is to find the interger portion before\n",
    "the point and then check if that interger portion is even or not\n",
    "\"\"\"\n",
    "x = float(input(\"Enter a number: \"))\n",
    "y = round(x)\n",
    "if x > 0:\n",
    "    if x < y:\n",
    "          intPortion = y - 1\n",
    "    else:\n",
    "          intPortion = y\n",
    "else:\n",
    "    if x > y:\n",
    "          intPortion = y + 1\n",
    "    else:\n",
    "          intPortion = y \n",
    "print(intPortion)\n"
   ]
  },
  {
   "cell_type": "code",
   "execution_count": 27,
   "id": "04ff9591-e18c-4de3-87d9-909c3c7feee6",
   "metadata": {},
   "outputs": [
    {
     "data": {
      "text/plain": [
       "226"
      ]
     },
     "execution_count": 27,
     "metadata": {},
     "output_type": "execute_result"
    }
   ],
   "source": [
    "d = 225.66588\n",
    "round(d)"
   ]
  },
  {
   "cell_type": "code",
   "execution_count": 6,
   "id": "58f3e022-abd5-41cb-9b3d-0554b9eab322",
   "metadata": {},
   "outputs": [
    {
     "name": "stdin",
     "output_type": "stream",
     "text": [
      "Enter a number:  -665.255\n"
     ]
    },
    {
     "name": "stdout",
     "output_type": "stream",
     "text": [
      "odd\n",
      "-665\n"
     ]
    }
   ],
   "source": [
    "x = float(input(\"Enter a number: \"))\n",
    "y = round(x)\n",
    "if x > 0:\n",
    "    if x < y:\n",
    "          intPortion = y - 1\n",
    "    else:\n",
    "          intPortion = y\n",
    "else:\n",
    "    if x > y:\n",
    "          intPortion = y + 1\n",
    "    else:\n",
    "          intPortion = y \n",
    "if intPortion % 2 ==0:\n",
    "    print(\"even\")\n",
    "else:\n",
    "    print(\"odd\")\n",
    "print(intPortion)\n"
   ]
  },
  {
   "cell_type": "code",
   "execution_count": 28,
   "id": "43f49b58-feae-4dd4-b96c-13786db0e9d3",
   "metadata": {},
   "outputs": [
    {
     "name": "stdin",
     "output_type": "stream",
     "text": [
      "enter : 10\n"
     ]
    },
    {
     "name": "stdout",
     "output_type": "stream",
     "text": [
      "1\n",
      "thanks for answering\n",
      "243\n",
      "thanks for answering\n",
      "3125\n",
      "thanks for answering\n",
      "16807\n",
      "thanks for answering\n",
      "59049\n",
      "thanks for answering\n"
     ]
    }
   ],
   "source": [
    "x = int(input(\"enter :\"))\n",
    "i = 1\n",
    "while i < x :\n",
    "    print(i**5)\n",
    "    i+=2\n",
    "    print(\"thanks for answering\")\n"
   ]
  },
  {
   "cell_type": "code",
   "execution_count": 3,
   "id": "e7530a60-336c-4a86-b468-36cb419ad0bc",
   "metadata": {},
   "outputs": [
    {
     "name": "stdin",
     "output_type": "stream",
     "text": [
      "enter your number:  10\n"
     ]
    },
    {
     "name": "stdout",
     "output_type": "stream",
     "text": [
      "1\n",
      "2\n",
      "3\n",
      "4\n",
      "5\n",
      "6\n",
      "break the loop\n",
      "Done\n"
     ]
    }
   ],
   "source": [
    "x = int(input(\"enter your number: \"))\n",
    "i =1\n",
    "while True:\n",
    "    if i%7 == 0:\n",
    "        print(\"break the loop\")\n",
    "        break\n",
    "    else:\n",
    "        print(i)\n",
    "        i = i + 1\n",
    "        continue\n",
    "print(\"Done\")"
   ]
  },
  {
   "cell_type": "code",
   "execution_count": 4,
   "id": "63d54a31-7036-43c3-8e28-e7f754586b7b",
   "metadata": {},
   "outputs": [
    {
     "name": "stdin",
     "output_type": "stream",
     "text": [
      "enter your number:  23\n"
     ]
    },
    {
     "name": "stdout",
     "output_type": "stream",
     "text": [
      "1\n",
      "2\n",
      "3\n",
      "4\n",
      "5\n",
      "6\n",
      "stop\n"
     ]
    }
   ],
   "source": [
    "x = int(input(\"enter your number: \"))\n",
    "i =1\n",
    "while True:\n",
    "    if i%7 != 0:\n",
    "        print(i)\n",
    "        i+=1\n",
    "        continue\n",
    "    else:\n",
    "        print(\"stop\")\n",
    "        break"
   ]
  },
  {
   "cell_type": "code",
   "execution_count": 15,
   "id": "1b3677ea-38d3-48da-85f4-ddf5d631d6bf",
   "metadata": {},
   "outputs": [
    {
     "name": "stdin",
     "output_type": "stream",
     "text": [
      "enter your number:  8\n"
     ]
    },
    {
     "name": "stdout",
     "output_type": "stream",
     "text": [
      "-12\n",
      "-11\n",
      "-10\n",
      "-9\n",
      "-8\n",
      "-7\n",
      "-6\n",
      "-5\n",
      "[-12, -11, -10, -9, -8, -7, -6, -5]\n"
     ]
    }
   ],
   "source": [
    "L = []\n",
    "n = int(input(\"enter your number: \"))\n",
    "for i in range (n):\n",
    "    y = i-12 # 12 is just a random number any other can be used\n",
    "    print(y)\n",
    "    L.append(y) # append means add values in list\n",
    "print(L)\n"
   ]
  },
  {
   "cell_type": "code",
   "execution_count": 19,
   "id": "20f08610-c2a7-41c0-88ac-34c67c2a6815",
   "metadata": {},
   "outputs": [
    {
     "name": "stdin",
     "output_type": "stream",
     "text": [
      "enter total number:  12\n",
      "enter start number:  3\n",
      "enter step number:  3\n"
     ]
    },
    {
     "name": "stdout",
     "output_type": "stream",
     "text": [
      "3\n",
      "6\n",
      "9\n",
      "[3, 6, 9]\n"
     ]
    }
   ],
   "source": [
    "L = []\n",
    "totalnumbers = int(input(\"enter total number: \"))\n",
    "startnumber = int(input(\"enter start number: \"))\n",
    "stepnumber = int(input(\"enter step number: \"))\n",
    "for i in range (startnumber,totalnumbers,stepnumber):\n",
    "    y = i\n",
    "    print(y)\n",
    "    L.append(y) \n",
    "print(L)"
   ]
  },
  {
   "cell_type": "code",
   "execution_count": 27,
   "id": "b6d04270-d851-4eca-b120-cd53ecad4e3e",
   "metadata": {},
   "outputs": [
    {
     "name": "stdout",
     "output_type": "stream",
     "text": [
      "apple\n",
      "mango\n",
      "final done\n"
     ]
    }
   ],
   "source": [
    "S = {\"apple\", \"mango\", 45}\n",
    "i=1\n",
    "for x in S:\n",
    "    print(x)\n",
    "    i+=1\n",
    "    if i == 3:\n",
    "        break\n",
    "    else:\n",
    "        pass\n",
    "else:\n",
    "    print(\"done\")\n",
    "print(\"final done\")"
   ]
  },
  {
   "cell_type": "code",
   "execution_count": 30,
   "id": "a1ca5d61-b234-4ffc-bac5-25c03b4001af",
   "metadata": {},
   "outputs": [
    {
     "name": "stdout",
     "output_type": "stream",
     "text": [
      "a: 2\n",
      "b: 6\n"
     ]
    }
   ],
   "source": [
    "D = {\"a:\":2, \"b:\":6} #writing a dictionary\n",
    "for x in D:\n",
    "    print(x,D[x])"
   ]
  },
  {
   "cell_type": "code",
   "execution_count": null,
   "id": "b074606b-a7af-4d03-9739-3e9cd290560b",
   "metadata": {},
   "outputs": [],
   "source": [
    "\"\"\"\"\n",
    "make a list and make another list where all items in a sorted order\n",
    "\"\"\"\n",
    "L = [0,9,-9,5,-7,8]\n"
   ]
  },
  {
   "cell_type": "markdown",
   "id": "0667b8a2-1dc4-474a-ae70-950a24da5ca9",
   "metadata": {},
   "source": [
    "# Functions"
   ]
  },
  {
   "cell_type": "code",
   "execution_count": 33,
   "id": "2d50609d-752a-438d-b8db-e2221b7355cc",
   "metadata": {},
   "outputs": [],
   "source": [
    "def printsuccess():\n",
    "    print(\"How are you\")\n",
    "    print(\"good\")"
   ]
  },
  {
   "cell_type": "code",
   "execution_count": 34,
   "id": "7bad8923-ddba-4a02-a3a0-133f619eef94",
   "metadata": {},
   "outputs": [
    {
     "name": "stdout",
     "output_type": "stream",
     "text": [
      "How are you\n",
      "good\n"
     ]
    }
   ],
   "source": [
    "printsuccess()"
   ]
  },
  {
   "cell_type": "code",
   "execution_count": 35,
   "id": "f3eade56-0c43-43d8-9cf6-0e276c6c868f",
   "metadata": {},
   "outputs": [
    {
     "data": {
      "text/plain": [
       "8"
      ]
     },
     "execution_count": 35,
     "metadata": {},
     "output_type": "execute_result"
    }
   ],
   "source": [
    "3+5"
   ]
  },
  {
   "cell_type": "code",
   "execution_count": 37,
   "id": "26067e4f-3a82-4acb-b9e6-16e6c775338a",
   "metadata": {},
   "outputs": [
    {
     "name": "stdout",
     "output_type": "stream",
     "text": [
      "How are you\n",
      "good\n"
     ]
    }
   ],
   "source": [
    "printsuccess()"
   ]
  },
  {
   "cell_type": "code",
   "execution_count": 39,
   "id": "90efccf4-bcf8-4b3c-8984-464f23c815fb",
   "metadata": {},
   "outputs": [],
   "source": [
    "def word():\n",
    "    print(\"good to see you\")\n",
    "    print(\"bye\")"
   ]
  },
  {
   "cell_type": "code",
   "execution_count": 40,
   "id": "06fc135b-b401-42f2-bc08-13e3a05cefdb",
   "metadata": {},
   "outputs": [
    {
     "name": "stdout",
     "output_type": "stream",
     "text": [
      "good to see you\n",
      "bye\n"
     ]
    }
   ],
   "source": [
    "word()"
   ]
  },
  {
   "cell_type": "code",
   "execution_count": 43,
   "id": "a62d0767-0204-4bb7-bce4-eb457604ccb9",
   "metadata": {},
   "outputs": [],
   "source": [
    "def printMsg(msg):\n",
    "    \"\"\" this  fun prints the  message supplied by user or prints that message which is not a string\"\"\"\n",
    "    if isinstance(msg,str):\n",
    "        print(msg)\n",
    "    else:\n",
    "        print(\"your message is not string\")\n",
    "        print(\"here is a type of which you supplied: \",type(msg))\n",
    "        \n",
    "        "
   ]
  },
  {
   "cell_type": "code",
   "execution_count": 44,
   "id": "180b41f5-e205-49c5-8e85-661ea32770ee",
   "metadata": {},
   "outputs": [
    {
     "name": "stdout",
     "output_type": "stream",
     "text": [
      "this is a message\n"
     ]
    }
   ],
   "source": [
    "printMsg(\"this is a message\")"
   ]
  },
  {
   "cell_type": "code",
   "execution_count": 45,
   "id": "9eae1d64-0e45-40ad-8246-f9df8ea4c8a4",
   "metadata": {},
   "outputs": [
    {
     "name": "stdout",
     "output_type": "stream",
     "text": [
      "your message is not string\n",
      "here is a type of which you supplied:  <class 'int'>\n"
     ]
    }
   ],
   "source": [
    "printMsg(564)"
   ]
  },
  {
   "cell_type": "code",
   "execution_count": 46,
   "id": "f0a2ee90-bd1d-43e1-b604-e225057750d8",
   "metadata": {},
   "outputs": [
    {
     "name": "stdout",
     "output_type": "stream",
     "text": [
      "hello there\n"
     ]
    }
   ],
   "source": [
    "y = \"hello there\"\n",
    "printMsg(y)"
   ]
  },
  {
   "cell_type": "code",
   "execution_count": 47,
   "id": "19f5184e-d984-4313-b6d2-97d6fd6b8e47",
   "metadata": {},
   "outputs": [
    {
     "name": "stdout",
     "output_type": "stream",
     "text": [
      "your message is not string\n",
      "here is a type of which you supplied:  <class 'float'>\n"
     ]
    }
   ],
   "source": [
    "y = 6450.15\n",
    "printMsg(y)\n"
   ]
  },
  {
   "cell_type": "code",
   "execution_count": 50,
   "id": "187f9934-e643-4484-9ad5-1180da4020cd",
   "metadata": {},
   "outputs": [],
   "source": [
    "def satish(p,q):   #here we can define a function as per our own\n",
    "    c = p**q\n",
    "    print(c)"
   ]
  },
  {
   "cell_type": "code",
   "execution_count": 51,
   "id": "e07ed0f8-937a-4dc9-a27c-c3f33626db11",
   "metadata": {},
   "outputs": [
    {
     "name": "stdout",
     "output_type": "stream",
     "text": [
      "8\n"
     ]
    }
   ],
   "source": [
    "satish(2,3)"
   ]
  },
  {
   "cell_type": "code",
   "execution_count": 52,
   "id": "4b706bc7-e909-4381-9d11-b689e627eab7",
   "metadata": {},
   "outputs": [],
   "source": [
    "def mypow(p,q):   #here we can define a function as per our own\n",
    "    c = p**q\n",
    "    print(c)"
   ]
  },
  {
   "cell_type": "code",
   "execution_count": 53,
   "id": "570cd15e-6536-4327-9387-b327139aa649",
   "metadata": {},
   "outputs": [
    {
     "name": "stdout",
     "output_type": "stream",
     "text": [
      "8\n"
     ]
    }
   ],
   "source": [
    "mypow(2,3)"
   ]
  },
  {
   "cell_type": "code",
   "execution_count": 7,
   "id": "af3d54dc-4ba0-405a-8c5a-4b902044fa3f",
   "metadata": {},
   "outputs": [],
   "source": [
    "def checkArgs(a,b,c):\n",
    "    if isinstance(a,(float,int)) and isinstance(b,(float,int)) and isinstance(c,(float,int)):\n",
    "        print(a+b+c)\n",
    "    else:\n",
    "        print(\"error\")\n",
    "       \n"
   ]
  },
  {
   "cell_type": "code",
   "execution_count": 8,
   "id": "120c598c-8b69-468b-a983-2d9928774000",
   "metadata": {},
   "outputs": [
    {
     "name": "stdout",
     "output_type": "stream",
     "text": [
      "error\n"
     ]
    }
   ],
   "source": [
    "checkArgs(5,6,\"fs\")"
   ]
  },
  {
   "cell_type": "code",
   "execution_count": 16,
   "id": "60278ffb-df1c-46e0-a74a-4cca15a132d0",
   "metadata": {},
   "outputs": [],
   "source": [
    "def f(a,b,c):\n",
    "    print(\"A is:\",a)  # see the order. ordeing is important here\n",
    "    print(\"B is:\",b)\n",
    "    print(\"C is:\",c)"
   ]
  },
  {
   "cell_type": "code",
   "execution_count": 17,
   "id": "8fd6ab6d-cf91-4fd6-9cca-cea5597b4401",
   "metadata": {},
   "outputs": [
    {
     "name": "stdout",
     "output_type": "stream",
     "text": [
      "A is: 2\n",
      "B is: 3\n",
      "C is: 4\n"
     ]
    }
   ],
   "source": [
    "f(2,3,4)"
   ]
  },
  {
   "cell_type": "code",
   "execution_count": 22,
   "id": "236f3611-ac02-4f19-a58f-1835501ca374",
   "metadata": {},
   "outputs": [],
   "source": [
    "def myadd(a,b):\n",
    "    sumvalue = a+b\n",
    "    return sumvalue"
   ]
  },
  {
   "cell_type": "code",
   "execution_count": 23,
   "id": "ed2ca4e4-e48c-4ca5-bdd7-3a3370b4da01",
   "metadata": {},
   "outputs": [
    {
     "data": {
      "text/plain": [
       "990"
      ]
     },
     "execution_count": 23,
     "metadata": {},
     "output_type": "execute_result"
    }
   ],
   "source": [
    "myadd(2,988)"
   ]
  },
  {
   "cell_type": "code",
   "execution_count": 32,
   "id": "9af23573-bff3-45dc-b53c-f3403b0d21d2",
   "metadata": {},
   "outputs": [],
   "source": [
    "variableoutsideafunction = 52"
   ]
  },
  {
   "cell_type": "code",
   "execution_count": 33,
   "id": "e3ca5388-48f1-4797-95f8-c54d95066fc0",
   "metadata": {},
   "outputs": [],
   "source": [
    "def g():\n",
    "    variableoutsideafunction = 5\n",
    "    print(variableoutsideafunction)"
   ]
  },
  {
   "cell_type": "code",
   "execution_count": 34,
   "id": "1636617e-005f-490f-af4a-d47d124df9d3",
   "metadata": {},
   "outputs": [
    {
     "name": "stdout",
     "output_type": "stream",
     "text": [
      "5\n"
     ]
    }
   ],
   "source": [
    "g() # prints local variables"
   ]
  },
  {
   "cell_type": "code",
   "execution_count": 37,
   "id": "309a8b0a-baf2-4ad8-b0b9-0e93735d4ea9",
   "metadata": {},
   "outputs": [
    {
     "name": "stdout",
     "output_type": "stream",
     "text": [
      "52\n"
     ]
    }
   ],
   "source": [
    "print(variableoutsideafunction) # prints a global variable"
   ]
  },
  {
   "cell_type": "code",
   "execution_count": 38,
   "id": "e8ea3ee2-f8d2-45fe-b34c-b5d9b97944e9",
   "metadata": {},
   "outputs": [],
   "source": [
    "def g():\n",
    "    variableoutsideafunction = 5   "
   ]
  },
  {
   "cell_type": "code",
   "execution_count": 40,
   "id": "b489cadd-bdb9-48a3-a6a1-da33fc260acf",
   "metadata": {},
   "outputs": [
    {
     "name": "stdout",
     "output_type": "stream",
     "text": [
      "None\n"
     ]
    }
   ],
   "source": [
    "print(g())"
   ]
  },
  {
   "cell_type": "code",
   "execution_count": 43,
   "id": "fc6c3df0-bce3-42e6-9eb0-0f15f9284a04",
   "metadata": {},
   "outputs": [],
   "source": [
    "def h():\n",
    "    print(\"good\")\n",
    "    a=5\n",
    "    b=5\n",
    "    c=a+b\n",
    "    print(\"something\")\n",
    "    return c  # here return is performing like to print value of c\n",
    "    print(\"A\")"
   ]
  },
  {
   "cell_type": "code",
   "execution_count": 45,
   "id": "71e5858d-cdac-4fb4-a625-d9b53a09076b",
   "metadata": {},
   "outputs": [
    {
     "name": "stdout",
     "output_type": "stream",
     "text": [
      "good\n",
      "something\n",
      "good\n",
      "something\n",
      "<class 'int'>\n"
     ]
    }
   ],
   "source": [
    "h()\n",
    "print(type(h()))"
   ]
  },
  {
   "cell_type": "code",
   "execution_count": 55,
   "id": "ff75ddb3-9f52-49eb-8f71-682788d3c351",
   "metadata": {},
   "outputs": [],
   "source": [
    "def MyAddUniversal(*args): # * ia added to have multiple elements\n",
    "    s=0\n",
    "    for i in range(len(args)):\n",
    "        s=s+args[i]\n",
    "    return s\n",
    "        "
   ]
  },
  {
   "cell_type": "code",
   "execution_count": 54,
   "id": "b8e888d8-b7f0-4e8b-83b2-acca720e276e",
   "metadata": {},
   "outputs": [
    {
     "data": {
      "text/plain": [
       "14.5"
      ]
     },
     "execution_count": 54,
     "metadata": {},
     "output_type": "execute_result"
    }
   ],
   "source": [
    "MyAddUniversal(2,5,2,5.5)  # can be added multiple elemets without specifying them previously"
   ]
  },
  {
   "cell_type": "code",
   "execution_count": 63,
   "id": "bd51270d-776c-45fd-8501-70f57278bb01",
   "metadata": {},
   "outputs": [],
   "source": [
    "def printallvariableandvalues(**args):\n",
    "    for i in args:\n",
    "        print(\"variable name:\",i, \"And value name:\",args[i])\n"
   ]
  },
  {
   "cell_type": "code",
   "execution_count": 64,
   "id": "7edbdd5a-10cd-4f7e-9dd3-26501eff6301",
   "metadata": {},
   "outputs": [
    {
     "name": "stdout",
     "output_type": "stream",
     "text": [
      "variable name: a And value name: 4\n",
      "variable name: b And value name: good\n",
      "variable name: c And value name: 55.2\n"
     ]
    }
   ],
   "source": [
    "printallvariableandvalues(a=4,b=\"good\",c=55.2)"
   ]
  },
  {
   "cell_type": "code",
   "execution_count": 67,
   "id": "97215425-fe76-4b26-b7c9-99204c2520f8",
   "metadata": {},
   "outputs": [],
   "source": [
    "def gg(s=3):\n",
    "    print(s)"
   ]
  },
  {
   "cell_type": "code",
   "execution_count": 69,
   "id": "3b3a035d-9e9c-4fd3-8494-39025b3e47c4",
   "metadata": {},
   "outputs": [
    {
     "name": "stdout",
     "output_type": "stream",
     "text": [
      "3\n"
     ]
    }
   ],
   "source": [
    "gg()"
   ]
  },
  {
   "cell_type": "code",
   "execution_count": 70,
   "id": "a28b447a-3170-4956-b155-ea74211533c4",
   "metadata": {},
   "outputs": [
    {
     "name": "stdout",
     "output_type": "stream",
     "text": [
      "66365\n"
     ]
    }
   ],
   "source": [
    "gg(66365)"
   ]
  },
  {
   "cell_type": "code",
   "execution_count": 73,
   "id": "4861bff0-b238-4d7f-a4fe-e14752762b7a",
   "metadata": {},
   "outputs": [
    {
     "name": "stdout",
     "output_type": "stream",
     "text": [
      "[1, 5, 3, 7]\n",
      "[1, 5, 3, 7]\n"
     ]
    }
   ],
   "source": [
    "L =[1,2,3,7]\n",
    "L2=L\n",
    "L2[1]=5\n",
    "print(L)\n",
    "print(L2)"
   ]
  },
  {
   "cell_type": "code",
   "execution_count": 31,
   "id": "ba74c789-1b71-48e3-9823-cf2cd0f0408e",
   "metadata": {},
   "outputs": [],
   "source": [
    "def ff(L=[1,2,8]):\n",
    "    for i in L:\n",
    "        print(i)\n",
    "        "
   ]
  },
  {
   "cell_type": "code",
   "execution_count": 33,
   "id": "37adea76-2c52-4974-9639-d854db34beef",
   "metadata": {},
   "outputs": [
    {
     "name": "stdout",
     "output_type": "stream",
     "text": [
      "1\n",
      "2\n",
      "8\n"
     ]
    }
   ],
   "source": [
    "L2=[56,656560.5,88,88,6]\n",
    "ff() # by default ff takes the setup value in above given function"
   ]
  },
  {
   "cell_type": "code",
   "execution_count": 35,
   "id": "0905574e-7b94-4fa6-94dc-d9045b2b3245",
   "metadata": {},
   "outputs": [
    {
     "name": "stdout",
     "output_type": "stream",
     "text": [
      "56\n",
      "656560.5\n",
      "88\n",
      "88\n",
      "6\n",
      "  \n",
      "1\n",
      "2\n",
      "8\n"
     ]
    }
   ],
   "source": [
    "ff(L2)\n",
    "print('  ')           # see the difference clearly\n",
    "ff()"
   ]
  },
  {
   "cell_type": "code",
   "execution_count": 86,
   "id": "cfc7d0f3-4d2c-45e9-9c52-a51264250b75",
   "metadata": {},
   "outputs": [
    {
     "ename": "IndentationError",
     "evalue": "unexpected indent (965970829.py, line 2)",
     "output_type": "error",
     "traceback": [
      "\u001b[1;36m  Cell \u001b[1;32mIn[86], line 2\u001b[1;36m\u001b[0m\n\u001b[1;33m    sys.path.append(C:\\My_Universal_functions)\u001b[0m\n\u001b[1;37m    ^\u001b[0m\n\u001b[1;31mIndentationError\u001b[0m\u001b[1;31m:\u001b[0m unexpected indent\n"
     ]
    }
   ],
   "source": [
    "import sys\n",
    " sys.path.append(C:\\My_Universal_functions)"
   ]
  },
  {
   "cell_type": "code",
   "execution_count": 85,
   "id": "a4e9ec6f-97ca-43c2-a531-26452f7c1124",
   "metadata": {},
   "outputs": [
    {
     "ename": "ModuleNotFoundError",
     "evalue": "No module named 'My_Universal_functions'",
     "output_type": "error",
     "traceback": [
      "\u001b[1;31m---------------------------------------------------------------------------\u001b[0m",
      "\u001b[1;31mModuleNotFoundError\u001b[0m                       Traceback (most recent call last)",
      "Cell \u001b[1;32mIn[85], line 1\u001b[0m\n\u001b[1;32m----> 1\u001b[0m \u001b[38;5;28;01mimport\u001b[39;00m \u001b[38;5;21;01mMy_Universal_functions\u001b[39;00m\n",
      "\u001b[1;31mModuleNotFoundError\u001b[0m: No module named 'My_Universal_functions'"
     ]
    }
   ],
   "source": [
    "import My_Universal_functions"
   ]
  },
  {
   "cell_type": "code",
   "execution_count": 15,
   "id": "9ff4c890-76e4-4036-ad3f-d8324eeeed4c",
   "metadata": {},
   "outputs": [],
   "source": [
    "def findMin(L):    #to find the min value from the list\n",
    "    m = L[0]\n",
    "    i=0\n",
    "    idx=0\n",
    "    for x in L:\n",
    "        if x<m:\n",
    "            m = x\n",
    "            idx = i\n",
    "        else:\n",
    "            pass\n",
    "        i+=1\n",
    "    return m,idx\n",
    "            "
   ]
  },
  {
   "cell_type": "code",
   "execution_count": 16,
   "id": "e4423826-7529-4b7b-9807-64f037b51573",
   "metadata": {},
   "outputs": [],
   "source": [
    "a,b = findMin([88,9,8,7])"
   ]
  },
  {
   "cell_type": "code",
   "execution_count": 100,
   "id": "1a4711d1-ca2c-4d73-9e97-52fa107fd89f",
   "metadata": {},
   "outputs": [
    {
     "name": "stdout",
     "output_type": "stream",
     "text": [
      "7 3\n"
     ]
    }
   ],
   "source": [
    "print(a,b)"
   ]
  },
  {
   "cell_type": "code",
   "execution_count": 1,
   "id": "d8937b4d-2d4b-4a8d-b122-5bc1501c4a70",
   "metadata": {},
   "outputs": [
    {
     "name": "stdout",
     "output_type": "stream",
     "text": [
      "welcome to this new arena\n"
     ]
    }
   ],
   "source": [
    "print(\"welcome to this new arena\")"
   ]
  },
  {
   "cell_type": "code",
   "execution_count": null,
   "id": "2008a4a7",
   "metadata": {},
   "outputs": [],
   "source": []
  }
 ],
 "metadata": {
  "kernelspec": {
   "display_name": "Python 3 (ipykernel)",
   "language": "python",
   "name": "python3"
  },
  "language_info": {
   "codemirror_mode": {
    "name": "ipython",
    "version": 3
   },
   "file_extension": ".py",
   "mimetype": "text/x-python",
   "name": "python",
   "nbconvert_exporter": "python",
   "pygments_lexer": "ipython3",
   "version": "3.11.7"
  },
  "widgets": {
   "application/vnd.jupyter.widget-state+json": {
    "state": {},
    "version_major": 2,
    "version_minor": 0
   }
  }
 },
 "nbformat": 4,
 "nbformat_minor": 5
}
